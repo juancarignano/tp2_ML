{
 "cells": [
  {
   "cell_type": "markdown",
   "id": "80348a79-722b-4a13-8bd8-30af3d41f33a",
   "metadata": {},
   "source": [
    "# 1. Análisis exploratorio sobre el conjunto de datos."
   ]
  },
  {
   "cell_type": "markdown",
   "id": "35540ae3-7ea4-4b21-8717-257f1cbee7ee",
   "metadata": {},
   "source": [
    "Volumetría de los datos"
   ]
  },
  {
   "cell_type": "code",
   "execution_count": null,
   "id": "540c0f51-49a4-4c50-a6d8-ad7bb20891d7",
   "metadata": {},
   "outputs": [],
   "source": []
  },
  {
   "cell_type": "markdown",
   "id": "edb3b0a3-2563-4ae8-97e1-8412127d7577",
   "metadata": {},
   "source": [
    "Estructura y tipo de las imágenes"
   ]
  },
  {
   "cell_type": "code",
   "execution_count": null,
   "id": "b72122b0-02fb-4b41-9d51-e327ff4145ba",
   "metadata": {},
   "outputs": [],
   "source": []
  },
  {
   "cell_type": "markdown",
   "id": "10db78f4-010f-44dd-8377-92ace1ac1a1c",
   "metadata": {},
   "source": [
    "Distribución de la variable a predecir"
   ]
  },
  {
   "cell_type": "code",
   "execution_count": null,
   "id": "f133212c-4734-4a92-8c70-6b716d305b4f",
   "metadata": {},
   "outputs": [],
   "source": []
  },
  {
   "cell_type": "markdown",
   "id": "7aa39887-3ce9-4602-a9c9-1b1d48f29453",
   "metadata": {},
   "source": [
    "# 2. Modelado"
   ]
  },
  {
   "cell_type": "markdown",
   "id": "54d9274f-e1d7-4a7d-a142-47fcdd5d5b16",
   "metadata": {},
   "source": [
    "Comparativa de distintas arquitecturas de redes neuronales (ej: MLP simple y Convolucional, variando cantidad de capas, filtros, etc.)."
   ]
  },
  {
   "cell_type": "code",
   "execution_count": null,
   "id": "1ade5c13-d476-4f2a-9f2a-cbabe35a657d",
   "metadata": {},
   "outputs": [],
   "source": []
  },
  {
   "cell_type": "markdown",
   "id": "63f002f6-b5d2-48b4-8d86-8a94c08c6f89",
   "metadata": {},
   "source": [
    "(opcional) Prueba de técnicas avanzadas: aumentación de datos, modelos pre-entrenados, incorporación de otros conjuntos de datos similares para el entrenamiento, etc."
   ]
  },
  {
   "cell_type": "code",
   "execution_count": null,
   "id": "cd1789a5-dc40-4d92-9a70-5d6452e26de6",
   "metadata": {},
   "outputs": [],
   "source": []
  },
  {
   "cell_type": "markdown",
   "id": "8d771e42-3016-40ce-b1e2-0740189ee352",
   "metadata": {},
   "source": [
    "# 3. Conclusiones"
   ]
  },
  {
   "cell_type": "markdown",
   "id": "ce72bc94-1de2-422c-909a-61b32981866a",
   "metadata": {},
   "source": [
    "Desarrollar las conclusiones finales a las que llegaron a partir de los experimentos, destacando la interpretación de los resultados obtenidos."
   ]
  },
  {
   "cell_type": "code",
   "execution_count": null,
   "id": "dc76ea5f-d9a6-428f-a02d-865a09487944",
   "metadata": {},
   "outputs": [],
   "source": []
  },
  {
   "cell_type": "code",
   "execution_count": null,
   "id": "0579db9c-ffcc-4036-a808-8fef059078c8",
   "metadata": {},
   "outputs": [],
   "source": []
  }
 ],
 "metadata": {
  "kernelspec": {
   "display_name": "Python 3 (ipykernel)",
   "language": "python",
   "name": "python3"
  },
  "language_info": {
   "codemirror_mode": {
    "name": "ipython",
    "version": 3
   },
   "file_extension": ".py",
   "mimetype": "text/x-python",
   "name": "python",
   "nbconvert_exporter": "python",
   "pygments_lexer": "ipython3",
   "version": "3.12.2"
  }
 },
 "nbformat": 4,
 "nbformat_minor": 5
}
